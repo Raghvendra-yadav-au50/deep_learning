{
 "cells": [
  {
   "cell_type": "markdown",
   "id": "e8a6463f",
   "metadata": {},
   "source": [
    "#### Mean Absolute Error\n",
    "###### Using function"
   ]
  },
  {
   "cell_type": "code",
   "execution_count": 6,
   "id": "281c1282",
   "metadata": {},
   "outputs": [],
   "source": [
    "import numpy as np"
   ]
  },
  {
   "cell_type": "code",
   "execution_count": 7,
   "id": "869f24b5",
   "metadata": {},
   "outputs": [],
   "source": [
    "y_predicted=np.array([1,1,0,0,1])\n",
    "y_true = np.array([0.3,0.7,1,0,0.5])"
   ]
  },
  {
   "cell_type": "code",
   "execution_count": 15,
   "id": "4f9e3d86",
   "metadata": {},
   "outputs": [],
   "source": [
    "def MAE(y_true,y_predicted):\n",
    "\n",
    "    total_error=0\n",
    "    for yt,yp in zip(y_true,y_predicted):\n",
    "        total_error += abs(yt-yp)\n",
    "    print(\"Total error:\",total_error)\n",
    "    mean_absolute_error=total_error/len(y_true)\n",
    "    print(\"mean_absolute_error:\",mean_absolute_error)"
   ]
  },
  {
   "cell_type": "code",
   "execution_count": 16,
   "id": "ad777494",
   "metadata": {},
   "outputs": [
    {
     "name": "stdout",
     "output_type": "stream",
     "text": [
      "Total error: 2.5\n",
      "mean_absolute_error: 0.5\n"
     ]
    }
   ],
   "source": [
    "MAE(y_true,y_predicted)"
   ]
  },
  {
   "cell_type": "markdown",
   "id": "f83891be",
   "metadata": {},
   "source": [
    "###### Using numpy module"
   ]
  },
  {
   "cell_type": "code",
   "execution_count": 23,
   "id": "8573422d",
   "metadata": {},
   "outputs": [
    {
     "data": {
      "text/plain": [
       "array([0.7, 0.3, 1. , 0. , 0.5])"
      ]
     },
     "execution_count": 23,
     "metadata": {},
     "output_type": "execute_result"
    }
   ],
   "source": [
    "np.abs(y_true-y_predicted)"
   ]
  },
  {
   "cell_type": "code",
   "execution_count": 24,
   "id": "d33862b0",
   "metadata": {},
   "outputs": [
    {
     "data": {
      "text/plain": [
       "0.5"
      ]
     },
     "execution_count": 24,
     "metadata": {},
     "output_type": "execute_result"
    }
   ],
   "source": [
    "np.mean(np.abs(y_true-y_predicted))"
   ]
  },
  {
   "cell_type": "markdown",
   "id": "2dc02b68",
   "metadata": {},
   "source": [
    "#### Mean Square Error\n",
    "###### using function"
   ]
  },
  {
   "cell_type": "code",
   "execution_count": 20,
   "id": "b2a9ee29",
   "metadata": {},
   "outputs": [],
   "source": [
    "def MSE(y_true,y_predicted):\n",
    "    total_error_mse=0\n",
    "    for ytm,ypm in zip(y_true,y_predicted):\n",
    "        total_error_mse+= (ytm-ypm)**2\n",
    "    print(\"Total error:\",total_error_mse)\n",
    "    mean_square_error=total_error_mse/len(y_true)\n",
    "    print(\"mean_square_error:\",mean_square_error)\n",
    "    "
   ]
  },
  {
   "cell_type": "code",
   "execution_count": 21,
   "id": "5ec3c57d",
   "metadata": {},
   "outputs": [
    {
     "name": "stdout",
     "output_type": "stream",
     "text": [
      "Total error: 1.83\n",
      "mean_square_error: 0.366\n"
     ]
    }
   ],
   "source": [
    "MSE(y_true,y_predicted)"
   ]
  },
  {
   "cell_type": "markdown",
   "id": "93a00e6f",
   "metadata": {},
   "source": [
    "###### Using numpy module"
   ]
  },
  {
   "cell_type": "code",
   "execution_count": 25,
   "id": "eebff707",
   "metadata": {},
   "outputs": [
    {
     "data": {
      "text/plain": [
       "array([0.49, 0.09, 1.  , 0.  , 0.25])"
      ]
     },
     "execution_count": 25,
     "metadata": {},
     "output_type": "execute_result"
    }
   ],
   "source": [
    "np.square(y_true-y_predicted)"
   ]
  },
  {
   "cell_type": "code",
   "execution_count": 26,
   "id": "790084bd",
   "metadata": {},
   "outputs": [
    {
     "data": {
      "text/plain": [
       "0.366"
      ]
     },
     "execution_count": 26,
     "metadata": {},
     "output_type": "execute_result"
    }
   ],
   "source": [
    "np.mean(np.square(y_true-y_predicted))"
   ]
  },
  {
   "cell_type": "markdown",
   "id": "1ba4f081",
   "metadata": {},
   "source": [
    "#### Log loss \n",
    "###### Using function"
   ]
  },
  {
   "cell_type": "code",
   "execution_count": 35,
   "id": "38501ad3",
   "metadata": {},
   "outputs": [],
   "source": [
    "eplison=1e-15"
   ]
  },
  {
   "cell_type": "code",
   "execution_count": 36,
   "id": "616edd23",
   "metadata": {},
   "outputs": [
    {
     "data": {
      "text/plain": [
       "[1, 1, 1e-15, 1e-15, 1]"
      ]
     },
     "execution_count": 36,
     "metadata": {},
     "output_type": "execute_result"
    }
   ],
   "source": [
    "y_predicted_new=([max(i,eplison) for i in y_predicted])\n",
    "y_predicted_new"
   ]
  },
  {
   "cell_type": "code",
   "execution_count": 37,
   "id": "eb1d897a",
   "metadata": {},
   "outputs": [
    {
     "data": {
      "text/plain": [
       "[0.999999999999999, 0.999999999999999, 1e-15, 1e-15, 0.999999999999999]"
      ]
     },
     "execution_count": 37,
     "metadata": {},
     "output_type": "execute_result"
    }
   ],
   "source": [
    "y_predicted_new=[min(i,1-eplison) for i in y_predicted_new]\n",
    "y_predicted_new"
   ]
  },
  {
   "cell_type": "code",
   "execution_count": 38,
   "id": "8c1ed024",
   "metadata": {},
   "outputs": [],
   "source": [
    "y_predicted_new=np.array(y_predicted_new)"
   ]
  },
  {
   "cell_type": "code",
   "execution_count": 39,
   "id": "be078842",
   "metadata": {},
   "outputs": [
    {
     "data": {
      "text/plain": [
       "array([-9.99200722e-16, -9.99200722e-16, -3.45387764e+01, -3.45387764e+01,\n",
       "       -9.99200722e-16])"
      ]
     },
     "execution_count": 39,
     "metadata": {},
     "output_type": "execute_result"
    }
   ],
   "source": [
    "np.log(y_predicted_new)"
   ]
  },
  {
   "cell_type": "code",
   "execution_count": 40,
   "id": "343d4068",
   "metadata": {},
   "outputs": [
    {
     "data": {
      "text/plain": [
       "17.2696280766844"
      ]
     },
     "execution_count": 40,
     "metadata": {},
     "output_type": "execute_result"
    }
   ],
   "source": [
    "-np.mean(y_true*np.log(y_predicted_new)+(1-y_true)*np.log(1-y_predicted_new))"
   ]
  },
  {
   "cell_type": "code",
   "execution_count": 43,
   "id": "5e662981",
   "metadata": {},
   "outputs": [],
   "source": [
    "def log_loss(y_true,y_predicted):\n",
    "    eplison=1e-15\n",
    "    y_predicted_new=([max(i,eplison) for i in y_predicted])\n",
    "    y_predicted_new=[min(i,1-eplison) for i in y_predicted_new]\n",
    "    y_predicted_new=np.array(y_predicted_new)\n",
    "    np.log(y_predicted_new)\n",
    "    return -np.mean(y_true*np.log(y_predicted_new)+(1-y_true)*np.log(1-y_predicted_new))"
   ]
  },
  {
   "cell_type": "code",
   "execution_count": 44,
   "id": "201dab7e",
   "metadata": {},
   "outputs": [
    {
     "data": {
      "text/plain": [
       "17.2696280766844"
      ]
     },
     "execution_count": 44,
     "metadata": {},
     "output_type": "execute_result"
    }
   ],
   "source": [
    "log_loss(y_true,y_predicted)"
   ]
  },
  {
   "cell_type": "code",
   "execution_count": null,
   "id": "ef73ae81",
   "metadata": {},
   "outputs": [],
   "source": []
  }
 ],
 "metadata": {
  "kernelspec": {
   "display_name": "Python 3 (ipykernel)",
   "language": "python",
   "name": "python3"
  },
  "language_info": {
   "codemirror_mode": {
    "name": "ipython",
    "version": 3
   },
   "file_extension": ".py",
   "mimetype": "text/x-python",
   "name": "python",
   "nbconvert_exporter": "python",
   "pygments_lexer": "ipython3",
   "version": "3.10.2"
  }
 },
 "nbformat": 4,
 "nbformat_minor": 5
}
